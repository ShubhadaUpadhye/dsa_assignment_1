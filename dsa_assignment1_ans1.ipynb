{
 "cells": [
  {
   "cell_type": "code",
   "execution_count": null,
   "metadata": {},
   "outputs": [],
   "source": [
    "# ans1)Given an array of integers nums and an integer target, return indices of the two numbers such that they add up to target.\n",
    "#nums = [2,7,11,15]\n",
    "#target = 9\n",
    "def target_index(array,target):\n",
    "    arr=array.split()\n",
    "    for i in range(len(arr)-1):                              \n",
    "        if arr[i]!=arr[i+1] and int(arr[i])+int(arr[i+1])==target :\n",
    "            print(i,i+1)\n",
    "\n",
    "target_index(array=input(\"enter elements of list separated by spaces:\"),target=int(input(\"enter target: \")))"
   ]
  }
 ],
 "metadata": {
  "kernelspec": {
   "display_name": "Python 3",
   "language": "python",
   "name": "python3"
  },
  "language_info": {
   "codemirror_mode": {
    "name": "ipython",
    "version": 3
   },
   "file_extension": ".py",
   "mimetype": "text/x-python",
   "name": "python",
   "nbconvert_exporter": "python",
   "pygments_lexer": "ipython3",
   "version": "3.8.5"
  }
 },
 "nbformat": 4,
 "nbformat_minor": 4
}
