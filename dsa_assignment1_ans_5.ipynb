{
 "cells": [
  {
   "cell_type": "code",
   "execution_count": null,
   "metadata": {},
   "outputs": [],
   "source": [
    "## ans 5)You are given two integer arrays nums1 and nums2, sorted in non-decreasing order, and two integers m and n, representing the number of elements in nums1 and nums2 respectively.\n",
    "num1 = [1,2,3,0,0,0]\n",
    "num2 = [2,5,6]\n",
    "\n",
    "def merge_arr(array1,array2):\n",
    "    arr1=array1.split()\n",
    "    arr1=list(map(lambda x: int(x), arr1))\n",
    "    arr2=array2.split()\n",
    "    arr2=list(map(lambda x: int(x), arr2))\n",
    "    \n",
    "    m = arr1.count(0)\n",
    "    n = len(arr2)\n",
    "    \n",
    "    if m==n:\n",
    "        for i in  range(1,m+1):\n",
    "            arr1[-i]=arr2[-i]\n",
    "        arr1.sort()\n",
    "        print(arr1)\n",
    "    else:\n",
    "        print(\"cannot be merged\")\n",
    "        \n",
    "merge_arr(array1=(input(\"enter array1\")),array2=input(\"enter array2\"))"
   ]
  }
 ],
 "metadata": {
  "kernelspec": {
   "display_name": "Python 3",
   "language": "python",
   "name": "python3"
  },
  "language_info": {
   "codemirror_mode": {
    "name": "ipython",
    "version": 3
   },
   "file_extension": ".py",
   "mimetype": "text/x-python",
   "name": "python",
   "nbconvert_exporter": "python",
   "pygments_lexer": "ipython3",
   "version": "3.8.5"
  }
 },
 "nbformat": 4,
 "nbformat_minor": 4
}
