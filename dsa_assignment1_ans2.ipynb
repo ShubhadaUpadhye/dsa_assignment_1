{
 "cells": [
  {
   "cell_type": "code",
   "execution_count": null,
   "metadata": {},
   "outputs": [],
   "source": [
    "## ans_2) Given an integer array nums and an integer val, remove all occurrences of val in nums in-place. The order of the elements may be changed. Then return the number of elements in nums which are not equal to val.\n",
    "nums = [3,2,2,3]\n",
    "val = 3\n",
    "for i in range(len(nums)):\n",
    "    if nums[i]==val:\n",
    "        nums[i]=''\n",
    "for j in range(len(nums)-1):\n",
    "    if type(nums[j])=='int':\n",
    "        nums[j]=nums[j]\n",
    "    else:\n",
    "        nums[j]=nums[j+1]\n",
    "#print(nums)\n",
    "for i in (nums):\n",
    "    if type(i)!='int':\n",
    "        print(nums.count(i),nums)\n",
    "        break"
   ]
  }
 ],
 "metadata": {
  "kernelspec": {
   "display_name": "Python 3",
   "language": "python",
   "name": "python3"
  },
  "language_info": {
   "codemirror_mode": {
    "name": "ipython",
    "version": 3
   },
   "file_extension": ".py",
   "mimetype": "text/x-python",
   "name": "python",
   "nbconvert_exporter": "python",
   "pygments_lexer": "ipython3",
   "version": "3.8.5"
  }
 },
 "nbformat": 4,
 "nbformat_minor": 4
}
