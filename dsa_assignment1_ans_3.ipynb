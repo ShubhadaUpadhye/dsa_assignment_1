{
 "cells": [
  {
   "cell_type": "code",
   "execution_count": null,
   "metadata": {},
   "outputs": [],
   "source": [
    "# ans3)Given a sorted array of distinct integers and a target value, return the index if the target is found.\n",
    "#nums = [1,3,9,6]\n",
    "#target = 10\n",
    "\n",
    "def arr_index(array,target):\n",
    "    arr=array.split()\n",
    "    arr=list(map(lambda x:int(x),arr))\n",
    "    low=0\n",
    "    high=len(arr)-1\n",
    "    while low <= high:\n",
    "        mid = low + (high - low)//2\n",
    "        \n",
    "        if arr[mid] == target:\n",
    "            print(mid)\n",
    "            break\n",
    "            \n",
    "        elif arr[mid] < target:\n",
    "            low = mid + 1\n",
    "\n",
    "        else:\n",
    "            high = mid - 1\n",
    "    else:\n",
    "        arr=arr+[target]\n",
    "        arr.sort()\n",
    "        print(arr.index(target))\n",
    "        \n",
    "arr_index(array=input(\"enter elements of list separated by spaces:\"),target=int(input(\"enter target: \")))"
   ]
  }
 ],
 "metadata": {
  "kernelspec": {
   "display_name": "Python 3",
   "language": "python",
   "name": "python3"
  },
  "language_info": {
   "codemirror_mode": {
    "name": "ipython",
    "version": 3
   },
   "file_extension": ".py",
   "mimetype": "text/x-python",
   "name": "python",
   "nbconvert_exporter": "python",
   "pygments_lexer": "ipython3",
   "version": "3.8.5"
  }
 },
 "nbformat": 4,
 "nbformat_minor": 4
}
