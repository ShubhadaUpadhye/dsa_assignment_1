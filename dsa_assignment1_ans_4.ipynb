{
 "cells": [
  {
   "cell_type": "code",
   "execution_count": null,
   "metadata": {},
   "outputs": [],
   "source": [
    "## ans4)You are given a large integer represented as an integer array digits, where each digits[i] is the ith digit of the integer\n",
    "digits = [5,2,9]\n",
    "digits.sort()\n",
    "string=''\n",
    "\n",
    "for i in digits:\n",
    "    string=string+str(i)\n",
    "    digits=int(string)+1\n",
    "\n",
    "print(digits)"
   ]
  }
 ],
 "metadata": {
  "kernelspec": {
   "display_name": "Python 3",
   "language": "python",
   "name": "python3"
  },
  "language_info": {
   "codemirror_mode": {
    "name": "ipython",
    "version": 3
   },
   "file_extension": ".py",
   "mimetype": "text/x-python",
   "name": "python",
   "nbconvert_exporter": "python",
   "pygments_lexer": "ipython3",
   "version": "3.8.5"
  }
 },
 "nbformat": 4,
 "nbformat_minor": 4
}
