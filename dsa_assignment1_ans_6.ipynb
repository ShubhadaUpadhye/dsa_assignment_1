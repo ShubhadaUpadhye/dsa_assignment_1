{
 "cells": [
  {
   "cell_type": "code",
   "execution_count": null,
   "metadata": {},
   "outputs": [],
   "source": [
    "# ans_6) Given an integer array nums, return true if any value appears at least twice in the array, and return false if every element is distinct.\n",
    "#nums = [1,2,3,1]\n",
    "def value_count(array):\n",
    "    nums=array.split()\n",
    "    for i in nums:\n",
    "        if nums.count(i)>=2:\n",
    "            print(True)\n",
    "            break\n",
    "        else:\n",
    "            print(False)\n",
    "            break\n",
    "value_count(array=(input(\"enter array\")))"
   ]
  }
 ],
 "metadata": {
  "kernelspec": {
   "display_name": "Python 3",
   "language": "python",
   "name": "python3"
  },
  "language_info": {
   "codemirror_mode": {
    "name": "ipython",
    "version": 3
   },
   "file_extension": ".py",
   "mimetype": "text/x-python",
   "name": "python",
   "nbconvert_exporter": "python",
   "pygments_lexer": "ipython3",
   "version": "3.8.5"
  }
 },
 "nbformat": 4,
 "nbformat_minor": 4
}
