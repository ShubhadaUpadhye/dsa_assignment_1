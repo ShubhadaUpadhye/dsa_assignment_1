{
 "cells": [
  {
   "cell_type": "code",
   "execution_count": null,
   "metadata": {},
   "outputs": [],
   "source": [
    "#ans 8)You have a set of integers s, which originally contains all the numbers from 1 to n. Unfortunately, due to some error, one of the numbers in s got duplicated to another number in the set, which results in repetition of one number and loss of another number.\n",
    "nums = [1, 2, 3, 4, 6, 4]\n",
    "def miss_index(array):\n",
    "    nums=array.split()\n",
    "    nums=list(map(lambda x : int(x),nums))\n",
    "    nums1 = []\n",
    "    for j in nums:\n",
    "        if nums.count(j) > 1:\n",
    "            nums1.append(j)\n",
    "            ind = nums.index(j)\n",
    "            nums[ind] = j + 1\n",
    "            nums1.append(j + 1)\n",
    "\n",
    "    print(nums1)\n",
    "miss_index(array=(input(\"enter elements of  array\")))"
   ]
  }
 ],
 "metadata": {
  "kernelspec": {
   "display_name": "Python 3",
   "language": "python",
   "name": "python3"
  },
  "language_info": {
   "codemirror_mode": {
    "name": "ipython",
    "version": 3
   },
   "file_extension": ".py",
   "mimetype": "text/x-python",
   "name": "python",
   "nbconvert_exporter": "python",
   "pygments_lexer": "ipython3",
   "version": "3.8.5"
  }
 },
 "nbformat": 4,
 "nbformat_minor": 4
}
