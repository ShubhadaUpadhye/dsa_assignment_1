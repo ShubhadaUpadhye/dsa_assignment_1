{
 "cells": [
  {
   "cell_type": "code",
   "execution_count": null,
   "metadata": {},
   "outputs": [],
   "source": [
    "## ans7)Given an integer array nums, move all 0's to the end of it while maintaining the relative order of the nonzero elements.\n",
    "def zero_at_end(array):\n",
    "    nums=array.split()\n",
    "    nums=list(map(lambda x : int(x),nums))\n",
    "    for i in range(nums.count(0)):\n",
    "        for j in range(len(nums)-1):\n",
    "            if nums[j]==0:\n",
    "                temp=nums[j]\n",
    "                nums[j]=nums[j+1]\n",
    "                nums[j+1]=temp\n",
    "\n",
    "    return(nums)\n",
    "zero_at_end(array=(input(\"enter elements of array\")))"
   ]
  }
 ],
 "metadata": {
  "kernelspec": {
   "display_name": "Python 3",
   "language": "python",
   "name": "python3"
  },
  "language_info": {
   "codemirror_mode": {
    "name": "ipython",
    "version": 3
   },
   "file_extension": ".py",
   "mimetype": "text/x-python",
   "name": "python",
   "nbconvert_exporter": "python",
   "pygments_lexer": "ipython3",
   "version": "3.8.5"
  }
 },
 "nbformat": 4,
 "nbformat_minor": 4
}
